{
 "cells": [
  {
   "cell_type": "code",
   "execution_count": 267,
   "metadata": {},
   "outputs": [],
   "source": [
    "# Load the model\n",
    "import numpy as np\n",
    "import matplotlib.pyplot as plt\n",
    "import os\n",
    "# import cv2\n",
    "import cv2\n",
    "import tensorflow as tf\n",
    "from tensorflow.keras.models import load_model\n",
    "model = load_model(\"40_epochs.h5\")\n",
    "model_color = load_model(\"color_epochs.h5\")\n",
    "model_wiki = load_model(\"wiki_model.h5\")"
   ]
  },
  {
   "cell_type": "code",
   "execution_count": 263,
   "metadata": {},
   "outputs": [],
   "source": [
    "def prepare(filepath):\n",
    "    path = os.path.join(filepath)\n",
    "    for img in os.listdir(path):\n",
    "        IMG_SIZE = 50\n",
    "        img_array_c = plt.imread(os.path.join(path), cv2.IMREAD_GRAYSCALE)\n",
    "#         RGB_img = cv2.cvtColor(img_array, cv2.COLOR_BGR2RGB)\n",
    "#         new_array_c = cv2.resize(RGB_img, (IMG_SIZE, IMG_SIZE))\n",
    "        plt.imshow(img_array_c)\n",
    "    \n",
    "        break\n",
    "    return new_array.reshape(-1,IMG_SIZE,IMG_SIZE,1)"
   ]
  },
  {
   "cell_type": "code",
   "execution_count": 289,
   "metadata": {
    "scrolled": true
   },
   "outputs": [
    {
     "ename": "IndexError",
     "evalue": "too many indices for array",
     "output_type": "error",
     "traceback": [
      "\u001b[1;31m---------------------------------------------------------------------------\u001b[0m",
      "\u001b[1;31mIndexError\u001b[0m                                Traceback (most recent call last)",
      "\u001b[1;32m<ipython-input-289-32057250b256>\u001b[0m in \u001b[0;36m<module>\u001b[1;34m\u001b[0m\n\u001b[0;32m     10\u001b[0m         \u001b[0mcrop_size\u001b[0m \u001b[1;33m=\u001b[0m \u001b[0mimg_array\u001b[0m\u001b[1;33m.\u001b[0m\u001b[0mshape\u001b[0m\u001b[1;33m[\u001b[0m\u001b[1;36m1\u001b[0m\u001b[1;33m]\u001b[0m\u001b[1;33m\u001b[0m\u001b[1;33m\u001b[0m\u001b[0m\n\u001b[0;32m     11\u001b[0m \u001b[1;33m\u001b[0m\u001b[0m\n\u001b[1;32m---> 12\u001b[1;33m     \u001b[0mnew\u001b[0m \u001b[1;33m=\u001b[0m \u001b[0mcrop_center\u001b[0m\u001b[1;33m(\u001b[0m\u001b[0mimg_array\u001b[0m\u001b[1;33m,\u001b[0m\u001b[0mcrop_size\u001b[0m\u001b[1;33m,\u001b[0m\u001b[0mcrop_size\u001b[0m\u001b[1;33m)\u001b[0m\u001b[1;33m\u001b[0m\u001b[1;33m\u001b[0m\u001b[0m\n\u001b[0m\u001b[0;32m     13\u001b[0m \u001b[1;33m\u001b[0m\u001b[0m\n\u001b[0;32m     14\u001b[0m     \u001b[0mnew_array\u001b[0m \u001b[1;33m=\u001b[0m \u001b[0mcv2\u001b[0m\u001b[1;33m.\u001b[0m\u001b[0mresize\u001b[0m\u001b[1;33m(\u001b[0m\u001b[0mimg_array\u001b[0m\u001b[1;33m,\u001b[0m \u001b[1;33m(\u001b[0m\u001b[0mIMG_SIZE\u001b[0m\u001b[1;33m,\u001b[0m \u001b[0mIMG_SIZE\u001b[0m\u001b[1;33m)\u001b[0m\u001b[1;33m)\u001b[0m\u001b[1;33m\u001b[0m\u001b[1;33m\u001b[0m\u001b[0m\n",
      "\u001b[1;32m<ipython-input-288-94796daae74f>\u001b[0m in \u001b[0;36mcrop_center\u001b[1;34m(img, cropx, cropy)\u001b[0m\n\u001b[0;32m      3\u001b[0m     \u001b[0mstartx\u001b[0m \u001b[1;33m=\u001b[0m \u001b[0mx\u001b[0m\u001b[1;33m//\u001b[0m\u001b[1;36m2\u001b[0m \u001b[1;33m-\u001b[0m \u001b[0mcropx\u001b[0m\u001b[1;33m//\u001b[0m\u001b[1;36m2\u001b[0m\u001b[1;33m\u001b[0m\u001b[1;33m\u001b[0m\u001b[0m\n\u001b[0;32m      4\u001b[0m     \u001b[0mstarty\u001b[0m \u001b[1;33m=\u001b[0m \u001b[0my\u001b[0m\u001b[1;33m//\u001b[0m\u001b[1;36m2\u001b[0m \u001b[1;33m-\u001b[0m \u001b[0mcropy\u001b[0m\u001b[1;33m//\u001b[0m\u001b[1;36m2\u001b[0m\u001b[1;33m\u001b[0m\u001b[1;33m\u001b[0m\u001b[0m\n\u001b[1;32m----> 5\u001b[1;33m     \u001b[1;32mreturn\u001b[0m \u001b[0mimg\u001b[0m\u001b[1;33m[\u001b[0m\u001b[0mstarty\u001b[0m\u001b[1;33m:\u001b[0m\u001b[0mstarty\u001b[0m\u001b[1;33m+\u001b[0m\u001b[0mcropy\u001b[0m\u001b[1;33m,\u001b[0m \u001b[0mstartx\u001b[0m\u001b[1;33m:\u001b[0m\u001b[0mstartx\u001b[0m\u001b[1;33m+\u001b[0m\u001b[0mcropx\u001b[0m\u001b[1;33m,\u001b[0m \u001b[1;33m:\u001b[0m\u001b[1;33m]\u001b[0m\u001b[1;33m\u001b[0m\u001b[1;33m\u001b[0m\u001b[0m\n\u001b[0m",
      "\u001b[1;31mIndexError\u001b[0m: too many indices for array"
     ]
    }
   ],
   "source": [
    "IMG_SIZE = 100\n",
    "for i in np.arange(11):\n",
    "    path = f\"../../{i+1}.jpg\"\n",
    "#     print (path)\n",
    "    img_array = cv2.imread(path, cv2.IMREAD_GRAYSCALE)\n",
    "    \n",
    "    if (img_array.shape)[0] < (img_array.shape)[1]:\n",
    "        crop_size = img_array.shape[0]\n",
    "    else:\n",
    "        crop_size = img_array.shape[1]\n",
    "\n",
    "    new = crop_center(img_array,crop_size,crop_size)\n",
    "    \n",
    "    new_array = cv2.resize(img_array, (IMG_SIZE, IMG_SIZE))\n",
    "    plt.imshow(new_array, cmap = \"gray\")\n",
    "    \n",
    "\n",
    "# # color\n",
    "# img_array_c = cv2.imread(\"1.jpeg\")\n",
    "# RGB_img = cv2.cvtColor(img_array_c, cv2.COLOR_BGR2RGB)\n",
    "# new_array_c = cv2.resize(RGB_img, (IMG_SIZE, IMG_SIZE))\n",
    "# plt.imshow(new_array_c)\n",
    "    \n",
    "\n",
    "    X = np.array(new_array).reshape(-1,IMG_SIZE,IMG_SIZE,1)\n",
    "# X_c = np.array(new_array_c).reshape(-1,IMG_SIZE,IMG_SIZE,3)\n",
    "    \n",
    "    X = X/255\n",
    "    prediciton = model_wiki.predict(X)[0][0]\n",
    "    prediciton = abs(1-prediciton)\n",
    "    male_prediction = round(((1-prediciton)*100),2)\n",
    "    female_prediciton = round(prediciton*100,2)\n",
    "\n",
    "    if (prediciton < .5):\n",
    "        print(f\"Male with {male_prediction}% certainty\")\n",
    "    #     print(f\"{round(male_prediction,2)}\")\n",
    "    else:\n",
    "            print(f\"Female with {female_prediciton}% certainty\")\n",
    "\n"
   ]
  },
  {
   "cell_type": "code",
   "execution_count": 288,
   "metadata": {},
   "outputs": [],
   "source": [
    "def crop_center(img,cropx,cropy):\n",
    "    y,x = img.shape\n",
    "    startx = x//2 - cropx//2\n",
    "    starty = y//2 - cropy//2\n",
    "    return img[starty:starty+cropy, startx:startx+cropx, :]"
   ]
  },
  {
   "cell_type": "code",
   "execution_count": 225,
   "metadata": {},
   "outputs": [],
   "source": [
    "X = X/255\n",
    "# X_c = X_c/255"
   ]
  },
  {
   "cell_type": "code",
   "execution_count": 226,
   "metadata": {
    "scrolled": true
   },
   "outputs": [
    {
     "name": "stdout",
     "output_type": "stream",
     "text": [
      "Male with 99.65% certainty\n"
     ]
    }
   ],
   "source": [
    "prediciton = model_wiki.predict(X)[0][0]\n",
    "prediciton = abs(1-prediciton)\n",
    "male_prediction = round(((1-prediciton)*100),2)\n",
    "female_prediciton = round(prediciton*100,2)\n",
    "\n",
    "if (prediciton < .5):\n",
    "    print(f\"Male with {male_prediction}% certainty\")\n",
    "#     print(f\"{round(male_prediction,2)}\")\n",
    "else:\n",
    "        print(f\"Female with {female_prediciton}% certainty\")\n",
    "\n",
    "# prediciton_c = model_color.predict(X_c)[0][0]\n",
    "# male_prediction_c = round(((1-prediciton_c)*100),2)\n",
    "# female_prediciton_c = round(prediciton_c*100,2)\n",
    "\n",
    "# if (prediciton_c < .5):\n",
    "#     print(f\"Male with {male_prediction_c}% certainty\")\n",
    "# #     print(f\"{round(male_prediction,2)}\")\n",
    "# else:\n",
    "#         print(f\"Female with {female_prediciton_c}% certainty\")\n"
   ]
  },
  {
   "cell_type": "code",
   "execution_count": 148,
   "metadata": {},
   "outputs": [],
   "source": [
    "# from tensorflow.keras.preprocessing.image import img_to_array\n",
    "# image = img_to_array(im)\n",
    "# image.shape"
   ]
  },
  {
   "cell_type": "code",
   "execution_count": null,
   "metadata": {},
   "outputs": [],
   "source": [
    "# from tensorflow.keras.preprocessing import image\n",
    "# image_size = (100, 100)\n",
    "# im = image.load_img(filepath, target_size=image_size, color_mode=\"grayscale\")\n",
    "# im"
   ]
  },
  {
   "cell_type": "code",
   "execution_count": null,
   "metadata": {},
   "outputs": [],
   "source": [
    "# image /= 255\n",
    "\n",
    "# img = image.flatten().reshape(-1, 100*100)\n",
    "# img.shape\n",
    "os.path.join(path)"
   ]
  },
  {
   "cell_type": "code",
   "execution_count": null,
   "metadata": {},
   "outputs": [],
   "source": [
    "# plt.imshow(img.reshape(100, 100), cmap=plt.cm.Greys)"
   ]
  },
  {
   "cell_type": "code",
   "execution_count": null,
   "metadata": {},
   "outputs": [],
   "source": [
    "# # Invert the pixel values to match the original data\n",
    "# img = 1 - img\n",
    "# plt.imshow(img.reshape(100, 100), cmap=plt.cm.Greys)"
   ]
  },
  {
   "cell_type": "code",
   "execution_count": null,
   "metadata": {},
   "outputs": [],
   "source": []
  },
  {
   "cell_type": "code",
   "execution_count": null,
   "metadata": {},
   "outputs": [],
   "source": []
  }
 ],
 "metadata": {
  "kernelspec": {
   "display_name": "Python 3",
   "language": "python",
   "name": "python3"
  },
  "language_info": {
   "codemirror_mode": {
    "name": "ipython",
    "version": 3
   },
   "file_extension": ".py",
   "mimetype": "text/x-python",
   "name": "python",
   "nbconvert_exporter": "python",
   "pygments_lexer": "ipython3",
   "version": "3.7.3"
  }
 },
 "nbformat": 4,
 "nbformat_minor": 2
}
