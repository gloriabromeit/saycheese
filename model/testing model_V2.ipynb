{
 "cells": [
  {
   "cell_type": "code",
   "execution_count": 1,
   "metadata": {},
   "outputs": [],
   "source": [
    "# Load the model\n",
    "import numpy as np\n",
    "import matplotlib.pyplot as plt\n",
    "import os\n",
    "# import cv2\n",
    "import cv2\n",
    "import tensorflow as tf\n",
    "from tensorflow.keras.models import load_model\n",
    "model = load_model(\"40_epochs.h5\")\n",
    "model_color = load_model(\"wiki_model.h5\")\n",
    "model_wiki = load_model(\"wiki_model.h5\")"
   ]
  },
  {
   "cell_type": "code",
   "execution_count": null,
   "metadata": {},
   "outputs": [],
   "source": [
    "def prepare(filepath):\n",
    "    path = os.path.join(filepath)\n",
    "    for img in os.listdir(path):\n",
    "        IMG_SIZE = 50\n",
    "        img_array_c = plt.imread(os.path.join(path), cv2.IMREAD_GRAYSCALE)\n",
    "#         RGB_img = cv2.cvtColor(img_array, cv2.COLOR_BGR2RGB)\n",
    "#         new_array_c = cv2.resize(RGB_img, (IMG_SIZE, IMG_SIZE))\n",
    "        plt.imshow(img_array_c)\n",
    "    \n",
    "        break\n",
    "    return new_array.reshape(-1,IMG_SIZE,IMG_SIZE,1)"
   ]
  },
  {
   "cell_type": "code",
   "execution_count": 32,
   "metadata": {},
   "outputs": [],
   "source": [
    "IMG_SIZE = 100\n",
    "path = \"../test/Rahm.jpg\""
   ]
  },
  {
   "cell_type": "code",
   "execution_count": 33,
   "metadata": {
    "scrolled": true
   },
   "outputs": [
    {
     "data": {
      "text/plain": [
       "<matplotlib.image.AxesImage at 0x1950058e400>"
      ]
     },
     "execution_count": 33,
     "metadata": {},
     "output_type": "execute_result"
    },
    {
     "data": {
      "image/png": "[encoded data removed]",
      "text/plain": [
       "<Figure size 432x288 with 1 Axes>"
      ]
     },
     "metadata": {
      "needs_background": "light"
     },
     "output_type": "display_data"
    }
   ],
   "source": [
    "img_array = cv2.imread(path, cv2.IMREAD_GRAYSCALE)\n",
    "new_array = cv2.resize(img_array, (IMG_SIZE, IMG_SIZE))\n",
    "plt.imshow(new_array, cmap = \"gray\")\n",
    "\n",
    "\n",
    "# # color\n",
    "# img_array_c = cv2.imread(\"1.jpeg\")\n",
    "# RGB_img = cv2.cvtColor(img_array_c, cv2.COLOR_BGR2RGB)\n",
    "# new_array_c = cv2.resize(RGB_img, (IMG_SIZE, IMG_SIZE))\n",
    "# plt.imshow(new_array_c)\n"
   ]
  },
  {
   "cell_type": "code",
   "execution_count": 34,
   "metadata": {},
   "outputs": [],
   "source": [
    "X = np.array(new_array).reshape(-1,IMG_SIZE,IMG_SIZE,1)\n",
    "# X_c = np.array(new_array_c).reshape(-1,IMG_SIZE,IMG_SIZE,3)"
   ]
  },
  {
   "cell_type": "code",
   "execution_count": 35,
   "metadata": {},
   "outputs": [],
   "source": [
    "X = X/255\n",
    "# X_c = X_c/255"
   ]
  },
  {
   "cell_type": "code",
   "execution_count": 36,
   "metadata": {
    "scrolled": true
   },
   "outputs": [
    {
     "name": "stdout",
     "output_type": "stream",
     "text": [
      "Male with 99.99% certainty\n"
     ]
    }
   ],
   "source": [
    "prediciton = model_wiki.predict(X)[0][0]\n",
    "prediciton = abs(1-prediciton)\n",
    "male_prediction = round(((1-prediciton)*100),2)\n",
    "female_prediciton = round(prediciton*100,2)\n",
    "\n",
    "if (prediciton < .5):\n",
    "    print(f\"Male with {male_prediction}% certainty\")\n",
    "#     print(f\"{round(male_prediction,2)}\")\n",
    "else:\n",
    "        print(f\"Female with {female_prediciton}% certainty\")\n",
    "\n",
    "# prediciton_c = model_color.predict(X_c)[0][0]\n",
    "# male_prediction_c = round(((1-prediciton_c)*100),2)\n",
    "# female_prediciton_c = round(prediciton_c*100,2)\n",
    "\n",
    "# if (prediciton_c < .5):\n",
    "#     print(f\"Male with {male_prediction_c}% certainty\")\n",
    "# #     print(f\"{round(male_prediction,2)}\")\n",
    "# else:\n",
    "#         print(f\"Female with {female_prediciton_c}% certainty\")\n"
   ]
  },
  {
   "cell_type": "code",
   "execution_count": null,
   "metadata": {},
   "outputs": [],
   "source": [
    "# from tensorflow.keras.preprocessing.image import img_to_array\n",
    "# image = img_to_array(im)\n",
    "# image.shape"
   ]
  },
  {
   "cell_type": "code",
   "execution_count": null,
   "metadata": {},
   "outputs": [],
   "source": [
    "# from tensorflow.keras.preprocessing import image\n",
    "# image_size = (100, 100)\n",
    "# im = image.load_img(filepath, target_size=image_size, color_mode=\"grayscale\")\n",
    "# im"
   ]
  },
  {
   "cell_type": "code",
   "execution_count": null,
   "metadata": {},
   "outputs": [],
   "source": [
    "# image /= 255\n",
    "\n",
    "# img = image.flatten().reshape(-1, 100*100)\n",
    "# img.shape\n",
    "os.path.join(path)"
   ]
  },
  {
   "cell_type": "code",
   "execution_count": null,
   "metadata": {},
   "outputs": [],
   "source": [
    "# plt.imshow(img.reshape(100, 100), cmap=plt.cm.Greys)"
   ]
  },
  {
   "cell_type": "code",
   "execution_count": null,
   "metadata": {},
   "outputs": [],
   "source": [
    "# # Invert the pixel values to match the original data\n",
    "# img = 1 - img\n",
    "# plt.imshow(img.reshape(100, 100), cmap=plt.cm.Greys)"
   ]
  },
  {
   "cell_type": "code",
   "execution_count": null,
   "metadata": {},
   "outputs": [],
   "source": []
  },
  {
   "cell_type": "code",
   "execution_count": null,
   "metadata": {},
   "outputs": [],
   "source": []
  }
 ],
 "metadata": {
  "kernelspec": {
   "display_name": "Python 3",
   "language": "python",
   "name": "python3"
  },
  "language_info": {
   "codemirror_mode": {
    "name": "ipython",
    "version": 3
   },
   "file_extension": ".py",
   "mimetype": "text/x-python",
   "name": "python",
   "nbconvert_exporter": "python",
   "pygments_lexer": "ipython3",
   "version": "3.7.3"
  }
 },
 "nbformat": 4,
 "nbformat_minor": 2
}
