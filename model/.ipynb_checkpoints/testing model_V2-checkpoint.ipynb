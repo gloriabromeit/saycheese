{
 "cells": [
  {
   "cell_type": "code",
   "execution_count": 3,
   "metadata": {},
   "outputs": [],
   "source": [
    "# Load the model\n",
    "import numpy as np\n",
    "import matplotlib.pyplot as plt\n",
    "import os\n",
    "# import cv2\n",
    "import cv2\n",
    "# import os\n",
    "import tensorflow as tf\n",
    "from tensorflow.keras.models import load_model\n",
    "model = load_model(\"40_epochs.h5\")\n",
    "model_color = load_model(\"color_epochs.h5\")"
   ]
  },
  {
   "cell_type": "code",
   "execution_count": 3,
   "metadata": {},
   "outputs": [],
   "source": [
    "def prepare(filepath):\n",
    "    path = os.path.join(filepath)\n",
    "    for img in os.listdir(path):\n",
    "        IMG_SIZE = 50\n",
    "        img_array_c = cv2.imread(os.path.join(path))\n",
    "        RGB_img = cv2.cvtColor(img_array, cv2.COLOR_BGR2RGB)\n",
    "        new_array_c = cv2.resize(RGB_img, (IMG_SIZE, IMG_SIZE))\n",
    "        plt.imshow(RGB_img)\n",
    "    \n",
    "        break\n",
    "    return new_array.reshape(-1,IMG_SIZE,IMG_SIZE,1)"
   ]
  },
  {
   "cell_type": "code",
   "execution_count": 5,
   "metadata": {},
   "outputs": [],
   "source": [
    "# Uri to jpg\n"
   ]
  },
  {
   "cell_type": "code",
   "execution_count": 8,
   "metadata": {},
   "outputs": [],
   "source": [
    "path = \".test/Rahm.jpg\"\n",
    "IMG_SIZE = 100"
   ]
  },
  {
   "cell_type": "code",
   "execution_count": 7,
   "metadata": {
    "scrolled": true
   },
   "outputs": [
    {
     "ename": "error",
     "evalue": "OpenCV(4.1.1) C:\\projects\\opencv-python\\opencv\\modules\\imgproc\\src\\resize.cpp:3720: error: (-215:Assertion failed) !ssize.empty() in function 'cv::resize'\n",
     "output_type": "error",
     "traceback": [
      "\u001b[1;31m---------------------------------------------------------------------------\u001b[0m",
      "\u001b[1;31merror\u001b[0m                                     Traceback (most recent call last)",
      "\u001b[1;32m<ipython-input-7-a5fc77f66831>\u001b[0m in \u001b[0;36m<module>\u001b[1;34m\u001b[0m\n\u001b[0;32m      1\u001b[0m \u001b[0mimg_array\u001b[0m \u001b[1;33m=\u001b[0m \u001b[0mcv2\u001b[0m\u001b[1;33m.\u001b[0m\u001b[0mimread\u001b[0m\u001b[1;33m(\u001b[0m\u001b[0mos\u001b[0m\u001b[1;33m.\u001b[0m\u001b[0mpath\u001b[0m\u001b[1;33m.\u001b[0m\u001b[0mjoin\u001b[0m\u001b[1;33m(\u001b[0m\u001b[0mpath\u001b[0m\u001b[1;33m)\u001b[0m\u001b[1;33m,\u001b[0m \u001b[0mcv2\u001b[0m\u001b[1;33m.\u001b[0m\u001b[0mIMREAD_GRAYSCALE\u001b[0m\u001b[1;33m)\u001b[0m\u001b[1;33m\u001b[0m\u001b[1;33m\u001b[0m\u001b[0m\n\u001b[1;32m----> 2\u001b[1;33m \u001b[0mnew_array\u001b[0m \u001b[1;33m=\u001b[0m \u001b[0mcv2\u001b[0m\u001b[1;33m.\u001b[0m\u001b[0mresize\u001b[0m\u001b[1;33m(\u001b[0m\u001b[0mimg_array\u001b[0m\u001b[1;33m,\u001b[0m \u001b[1;33m(\u001b[0m\u001b[0mIMG_SIZE\u001b[0m\u001b[1;33m,\u001b[0m \u001b[0mIMG_SIZE\u001b[0m\u001b[1;33m)\u001b[0m\u001b[1;33m)\u001b[0m\u001b[1;33m\u001b[0m\u001b[1;33m\u001b[0m\u001b[0m\n\u001b[0m\u001b[0;32m      3\u001b[0m \u001b[0mplt\u001b[0m\u001b[1;33m.\u001b[0m\u001b[0mimshow\u001b[0m\u001b[1;33m(\u001b[0m\u001b[0mnew_array\u001b[0m\u001b[1;33m,\u001b[0m \u001b[0mcmap\u001b[0m \u001b[1;33m=\u001b[0m \u001b[1;34m\"gray\"\u001b[0m\u001b[1;33m)\u001b[0m\u001b[1;33m\u001b[0m\u001b[1;33m\u001b[0m\u001b[0m\n\u001b[0;32m      4\u001b[0m \u001b[1;33m\u001b[0m\u001b[0m\n\u001b[0;32m      5\u001b[0m \u001b[1;33m\u001b[0m\u001b[0m\n",
      "\u001b[1;31merror\u001b[0m: OpenCV(4.1.1) C:\\projects\\opencv-python\\opencv\\modules\\imgproc\\src\\resize.cpp:3720: error: (-215:Assertion failed) !ssize.empty() in function 'cv::resize'\n"
     ]
    }
   ],
   "source": [
    "img_array = cv2.imread(os.path.join(path), cv2.IMREAD_GRAYSCALE)\n",
    "new_array = cv2.resize(img_array, (IMG_SIZE, IMG_SIZE))\n",
    "plt.imshow(new_array, cmap = \"gray\")\n",
    "\n",
    "\n",
    "# color\n",
    "img_array_c = cv2.imread(os.path.join(path))\n",
    "RGB_img = cv2.cvtColor(img_array_c, cv2.COLOR_BGR2RGB)\n",
    "new_array_c = cv2.resize(RGB_img, (IMG_SIZE, IMG_SIZE))\n",
    "plt.imshow(RGB_img)\n"
   ]
  },
  {
   "cell_type": "code",
   "execution_count": 65,
   "metadata": {},
   "outputs": [],
   "source": [
    "X = np.array(new_array).reshape(-1,IMG_SIZE,IMG_SIZE,1)\n",
    "X_c = np.array(new_array_c).reshape(-1,IMG_SIZE,IMG_SIZE,3)"
   ]
  },
  {
   "cell_type": "code",
   "execution_count": 66,
   "metadata": {},
   "outputs": [],
   "source": [
    "X = X/255\n",
    "X_c = X_c/255"
   ]
  },
  {
   "cell_type": "code",
   "execution_count": 67,
   "metadata": {
    "scrolled": true
   },
   "outputs": [
    {
     "name": "stdout",
     "output_type": "stream",
     "text": [
      "Female with 96.14% certainty\n",
      "Female with 97.29% certainty\n"
     ]
    }
   ],
   "source": [
    "prediciton = model.predict(X)[0][0]\n",
    "male_prediction = round(((1-prediciton)*100),2)\n",
    "female_prediciton = round(prediciton*100,2)\n",
    "\n",
    "if (prediciton < .5):\n",
    "    print(f\"Male with {male_prediction}% certainty\")\n",
    "#     print(f\"{round(male_prediction,2)}\")\n",
    "else:\n",
    "        print(f\"Female with {female_prediciton}% certainty\")\n",
    "\n",
    "prediciton_c = model_color.predict(X_c)[0][0]\n",
    "male_prediction_c = round(((1-prediciton_c)*100),2)\n",
    "female_prediciton_c = round(prediciton_c*100,2)\n",
    "\n",
    "if (prediciton_c < .5):\n",
    "    print(f\"Male with {male_prediction_c}% certainty\")\n",
    "#     print(f\"{round(male_prediction,2)}\")\n",
    "else:\n",
    "        print(f\"Female with {female_prediciton_c}% certainty\")\n"
   ]
  },
  {
   "cell_type": "code",
   "execution_count": 28,
   "metadata": {},
   "outputs": [],
   "source": [
    "# from tensorflow.keras.preprocessing.image import img_to_array\n",
    "# image = img_to_array(im)\n",
    "# image.shape"
   ]
  },
  {
   "cell_type": "code",
   "execution_count": null,
   "metadata": {},
   "outputs": [],
   "source": [
    "# from tensorflow.keras.preprocessing import image\n",
    "# image_size = (100, 100)\n",
    "# im = image.load_img(filepath, target_size=image_size, color_mode=\"grayscale\")\n",
    "# im"
   ]
  },
  {
   "cell_type": "code",
   "execution_count": null,
   "metadata": {},
   "outputs": [],
   "source": [
    "# image /= 255\n",
    "\n",
    "# img = image.flatten().reshape(-1, 100*100)\n",
    "# img.shape"
   ]
  },
  {
   "cell_type": "code",
   "execution_count": null,
   "metadata": {},
   "outputs": [],
   "source": [
    "# plt.imshow(img.reshape(100, 100), cmap=plt.cm.Greys)"
   ]
  },
  {
   "cell_type": "code",
   "execution_count": null,
   "metadata": {},
   "outputs": [],
   "source": [
    "# # Invert the pixel values to match the original data\n",
    "# img = 1 - img\n",
    "# plt.imshow(img.reshape(100, 100), cmap=plt.cm.Greys)"
   ]
  },
  {
   "cell_type": "code",
   "execution_count": null,
   "metadata": {},
   "outputs": [],
   "source": []
  },
  {
   "cell_type": "code",
   "execution_count": null,
   "metadata": {},
   "outputs": [],
   "source": []
  }
 ],
 "metadata": {
  "kernelspec": {
   "display_name": "Python 3",
   "language": "python",
   "name": "python3"
  },
  "language_info": {
   "codemirror_mode": {
    "name": "ipython",
    "version": 3
   },
   "file_extension": ".py",
   "mimetype": "text/x-python",
   "name": "python",
   "nbconvert_exporter": "python",
   "pygments_lexer": "ipython3",
   "version": "3.7.3"
  }
 },
 "nbformat": 4,
 "nbformat_minor": 2
}
